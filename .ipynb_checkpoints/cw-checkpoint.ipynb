{
 "cells": [
  {
   "cell_type": "code",
   "execution_count": 1,
   "id": "106ced9e",
   "metadata": {},
   "outputs": [
    {
     "name": "stdout",
     "output_type": "stream",
     "text": [
      "country    2019\n",
      "pop        2019\n",
      "cgdpo      2019\n",
      "emp        2019\n",
      "avh        2019\n",
      "hc         2019\n",
      "labsh      2019\n",
      "dtype: int64\n",
      "            ypc        ypw    yphw        yphc  yphhc\n",
      "1.00  101665.95  219595.21  123.93  7453935.85  38.90\n",
      "0.95   75036.01  128644.07   81.03  1400074.54  22.32\n",
      "0.90   55576.78  106398.89   69.79  1162919.21  21.13\n",
      "0.10   13293.88   31758.38   15.18    19959.55   5.50\n",
      "0.05   11530.34   23559.62   11.61    12318.48   4.30\n",
      "0.00    6690.58   18371.85    8.65     5478.30   3.66\n",
      "   ypc  ypw  yphw  yphc  yphhc\n",
      "0   15   12    14  1361     11\n",
      "1    7    5     7   114      5\n",
      "2    4    3     5    58      4\n"
     ]
    }
   ],
   "source": [
    "import pandas as pd\n",
    "import numpy as np\n",
    "import matplotlib.pyplot as plt\n",
    "\n",
    "df = pd.read_csv('https://raw.githubusercontent.com/jivizcaino/PWT_10.0/main/pwt100.csv', encoding=\"latin-1\")\n",
    "df_subset = df[['country', 'year', 'pop', 'cgdpo', 'emp', 'avh', 'hc', 'labsh']]\n",
    "df_subset = df_subset.query('year>=2010')\n",
    "\n",
    "#remove entries with null values\n",
    "dfc = df_subset.dropna()\n",
    "\n",
    "group = dfc.groupby(['year'])\n",
    "group = group.count()\n",
    "print(group[::-1].idxmax())\n",
    "#the most recent year with the most observations is 2019, with 61\n",
    "dfc = dfc.query('year == 2019')\n",
    "\n",
    "calc_table = pd.DataFrame(columns=['country','ypc', 'ypw', 'yphw', 'yphc', 'yphhc'])\n",
    "calc_table['country'] = dfc['country']\n",
    "calc_table['ypc'] = dfc['cgdpo']/dfc['pop']\n",
    "calc_table['ypw'] = dfc['cgdpo']/dfc['emp']\n",
    "calc_table['yphw'] = calc_table['ypw']/dfc['avh']\n",
    "calc_table['yphc'] = dfc['cgdpo']/dfc['hc']\n",
    "calc_table['yphhc'] = calc_table['yphw']/dfc['hc']\n",
    "calc_table = calc_table.round(decimals=2)\n",
    "table = calc_table.quantile([1, 0.95, 0.9, 0.1, 0.05, 0])\n",
    "# \n",
    "print(table)\n",
    "ypc_ratios = [round(table.iloc[0]['ypc']/table.iloc[5]['ypc']), round(table.iloc[1]['ypc']/table.iloc[4]['ypc']), round(table.iloc[2]['ypc']/table.iloc[3]['ypc'])]\n",
    "ypw_ratios = [round(table.iloc[0]['ypw']/table.iloc[5]['ypw']), round(table.iloc[1]['ypw']/table.iloc[4]['ypw']), round(table.iloc[2]['ypw']/table.iloc[3]['ypw'])]\n",
    "yphw_ratios = [round(table.iloc[0]['yphw']/table.iloc[5]['yphw']), round(table.iloc[1]['yphw']/table.iloc[4]['yphw']), round(table.iloc[2]['yphw']/table.iloc[3]['yphw'])]\n",
    "yphc_ratios = [round(table.iloc[0]['yphc']/table.iloc[5]['yphc']), round(table.iloc[1]['yphc']/table.iloc[4]['yphc']), round(table.iloc[2]['yphc']/table.iloc[3]['yphc'])]\n",
    "yphhc_ratios = [round(table.iloc[0]['yphhc']/table.iloc[5]['yphhc']), round(table.iloc[1]['yphhc']/table.iloc[4]['yphhc']), round(table.iloc[2]['yphhc']/table.iloc[3]['yphhc'])]\n",
    "#log_variance = []\n",
    "ratio_table = pd.DataFrame(list(zip(ypc_ratios, ypw_ratios, yphw_ratios, yphc_ratios, yphhc_ratios)), columns = ['ypc', 'ypw', 'yphw', 'yphc', 'yphhc'])\n",
    "print(ratio_table)"
   ]
  },
  {
   "cell_type": "code",
   "execution_count": null,
   "id": "de504d61",
   "metadata": {},
   "outputs": [],
   "source": [
    "#log variance of measures of GDP per worker\n",
    "def gdppw(x,y,z):\n",
    "    return ((x/y)/z)\n",
    "\n",
    "def lognstat(mu, sigma):\n",
    "v = np.exp(2 * mu + sigma**2) * (np.exp(sigma**2) - 1)\n",
    "return v\n",
    "\n",
    "df.loc()\n"
   ]
  }
 ],
 "metadata": {
  "kernelspec": {
   "display_name": "Python 3 (ipykernel)",
   "language": "python",
   "name": "python3"
  },
  "language_info": {
   "codemirror_mode": {
    "name": "ipython",
    "version": 3
   },
   "file_extension": ".py",
   "mimetype": "text/x-python",
   "name": "python",
   "nbconvert_exporter": "python",
   "pygments_lexer": "ipython3",
   "version": "3.9.12"
  }
 },
 "nbformat": 4,
 "nbformat_minor": 5
}
